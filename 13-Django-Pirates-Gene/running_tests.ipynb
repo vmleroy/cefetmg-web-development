{
 "cells": [
  {
   "cell_type": "code",
   "execution_count": 1,
   "metadata": {},
   "outputs": [
    {
     "name": "stdout",
     "output_type": "stream",
     "text": [
      "Found 5 test(s).\n",
      "<TemplateResponse status_code=200, \"text/html; charset=utf-8\">\n"
     ]
    },
    {
     "name": "stderr",
     "output_type": "stream",
     "text": [
      "Creating test database for alias 'default'...\n",
      "\n",
      "System check identified some issues:\n",
      "\n",
      "WARNINGS:\n",
      "pirates.Tesouro: (models.W042) Auto-created primary key used when not defining a primary key type, by default 'django.db.models.AutoField'.\n",
      "\tHINT: Configure the DEFAULT_AUTO_FIELD setting or the PiratesConfig.default_auto_field attribute to point to a subclass of AutoField, e.g. 'django.db.models.BigAutoField'.\n",
      "\n",
      "System check identified 1 issue (0 silenced).\n",
      ".....\n",
      "----------------------------------------------------------------------\n",
      "Ran 5 tests in 0.643s\n",
      "\n",
      "OK\n",
      "Destroying test database for alias 'default'...\n",
      "\n"
     ]
    }
   ],
   "source": [
    "!python manage.py test"
   ]
  }
 ],
 "metadata": {
  "kernelspec": {
   "display_name": "Python 3",
   "language": "python",
   "name": "python3"
  },
  "language_info": {
   "codemirror_mode": {
    "name": "ipython",
    "version": 3
   },
   "file_extension": ".py",
   "mimetype": "text/x-python",
   "name": "python",
   "nbconvert_exporter": "python",
   "pygments_lexer": "ipython3",
   "version": "3.12.3"
  }
 },
 "nbformat": 4,
 "nbformat_minor": 2
}
