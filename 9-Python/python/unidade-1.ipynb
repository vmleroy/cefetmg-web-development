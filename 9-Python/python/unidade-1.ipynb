{
 "cells": [
  {
   "cell_type": "markdown",
   "metadata": {},
   "source": [
    "# Tipos de Dados, Variáveis e Funções"
   ]
  },
  {
   "cell_type": "code",
   "execution_count": 7,
   "metadata": {},
   "outputs": [],
   "source": [
    "import math"
   ]
  },
  {
   "cell_type": "markdown",
   "metadata": {},
   "source": [
    "### Aquecimento\n",
    "Aqui temos um exemplos de como imprimir dados em Python, caso precise estudar mais, consulte esses [slides](https://daniel-hasan.github.io/cefet-web-grad/classes/python1/#13).\n",
    "\n",
    "PS: Lembre-se de sempre rodar a função antes e trocar os *null*"
   ]
  },
  {
   "cell_type": "code",
   "execution_count": null,
   "metadata": {},
   "outputs": [],
   "source": [
    "x = 10\n",
    "print(x)\n",
    "\n",
    "str1 = f\"Resultado: {x}\"\n",
    "str1"
   ]
  },
  {
   "cell_type": "markdown",
   "metadata": {},
   "source": [
    "##### Exercício 0.1\n",
    "Imprima as seguintes variáveis:"
   ]
  },
  {
   "cell_type": "code",
   "execution_count": 1,
   "metadata": {},
   "outputs": [
    {
     "name": "stdout",
     "output_type": "stream",
     "text": [
      "texto:Olá, a:10, b:5\n"
     ]
    }
   ],
   "source": [
    "a = 10\n",
    "b = 5\n",
    "texto = \"Olá\"\n",
    "print(f\"texto:{texto}, a:{a}, b:{b}\")"
   ]
  },
  {
   "cell_type": "markdown",
   "metadata": {},
   "source": [
    "##### Exercício 0.2\n",
    "Crie uma função *soma* que receba dois números de parâmetro e utilize *return* para mostrar seu resultado\n",
    "\n",
    "PS: Lembre-se de sempre rodar a função antes e trocar os *null*"
   ]
  },
  {
   "cell_type": "code",
   "execution_count": 5,
   "metadata": {},
   "outputs": [],
   "source": [
    "def soma(a, b):\n",
    "    return print(a+b)"
   ]
  },
  {
   "cell_type": "code",
   "execution_count": 6,
   "metadata": {},
   "outputs": [
    {
     "name": "stdout",
     "output_type": "stream",
     "text": [
      "5\n",
      "5\n"
     ]
    }
   ],
   "source": [
    "#testes\n",
    "soma(1, 4)\n",
    "soma(2, 3)"
   ]
  },
  {
   "cell_type": "markdown",
   "metadata": {},
   "source": [
    "##### Exercício 0.3\n",
    "Implemente uma função chamada *calculos* que recebe como parâmetro um número qualquer e retorne: I - quadrado do número, II - sua metade e III - sua raíz quadrada. Confira com os testes já criados.\n",
    "\n",
    "PS: Lembre-se de sempre rodar a função antes e trocar os *null*"
   ]
  },
  {
   "cell_type": "code",
   "execution_count": 8,
   "metadata": {},
   "outputs": [],
   "source": [
    "#implemente sua função aqui!\n",
    "def calculos(number):\n",
    "  return number ** 2, number / 2, math.sqrt(number)"
   ]
  },
  {
   "cell_type": "code",
   "execution_count": 9,
   "metadata": {},
   "outputs": [
    {
     "name": "stdout",
     "output_type": "stream",
     "text": [
      "funcao1: (4, 1.0, 1.4142135623730951), funcao2: (100, 5.0, 3.1622776601683795)\n"
     ]
    }
   ],
   "source": [
    "#testes\n",
    "funcao1 = calculos(2)\n",
    "funcao2 = calculos(10)\n",
    "print(f\"funcao1: {funcao1}, funcao2: {funcao2}\")"
   ]
  },
  {
   "cell_type": "markdown",
   "metadata": {},
   "source": [
    "### Exercício 1: Altura da Bola no instante *t*\n",
    "Imagine que uma bola é jogada para o alto e devemos calcular a altura em metros h desta bola num tempo t. Considere que a seguinte equação *h = vt - (gt²/2)*, onde _v_ é a velocidade inicial e g a gravidade.\n",
    "\n",
    "Essa função recebe como paramêtro o tempo t, a gravidade g e a velocidade inicial v, utilize *return* para retornar a altura. Confira a sua função e imprima os testes.\n",
    "\n",
    "PS: Lembre-se de sempre rodar a função antes e trocar os `None`"
   ]
  },
  {
   "cell_type": "code",
   "execution_count": 14,
   "metadata": {},
   "outputs": [],
   "source": [
    "def altura_bola(tempo, gravidade, velocidadeInicial):\n",
    "    altura = (velocidadeInicial * tempo) - ((gravidade * (tempo ** 2)) / 2)\n",
    "    return altura"
   ]
  },
  {
   "cell_type": "code",
   "execution_count": 15,
   "metadata": {},
   "outputs": [
    {
     "name": "stdout",
     "output_type": "stream",
     "text": [
      "Altura 1: 45.095\n",
      "Altura 2: 127.375\n",
      "Altura 3: 9.5\n"
     ]
    }
   ],
   "source": [
    "#testes\n",
    "bolaA1 = altura_bola(1, 9.81, 50)\n",
    "print(f\"Altura 1: {bolaA1}\")\n",
    "bolaA2 = altura_bola(5, 9.81, 50)\n",
    "print(f\"Altura 2: {bolaA2}\")\n",
    "bolaA3 = altura_bola(10, 9.81, 50)\n",
    "print(f\"Altura 3: {bolaA3}\")"
   ]
  },
  {
   "cell_type": "markdown",
   "metadata": {},
   "source": [
    "### Exercício 2: Velocidade da Bola no instante *t*\n",
    "Podemos complementar o exercício anterior com mais uma informação sobre o lançamento: a velocidade V da bola no instante t, seguindo a equação *V(t) = v-gt*.\n",
    "\n",
    "Essa função recebe como paramêtro o tempo t, a gravidade g e a velocidade inicial v, utilize *return* para retornar a altura. Confira a sua função e imprima os testes.\n",
    "\n",
    "Sempre lembre das regras de legibilidade, por exemplo, chame a variavel de *gravidade* e não _g_!\n"
   ]
  },
  {
   "cell_type": "code",
   "execution_count": 1,
   "metadata": {},
   "outputs": [],
   "source": [
    "#implemente sua função aqui!\n",
    "def velocidade_bola(tempo, gravidade, velocidadeInicial):\n",
    "    velocidade = velocidadeInicial - gravidade * tempo\n",
    "    return velocidade"
   ]
  },
  {
   "cell_type": "code",
   "execution_count": 2,
   "metadata": {},
   "outputs": [
    {
     "name": "stdout",
     "output_type": "stream",
     "text": [
      "Velocidade 1: 40.19\n",
      "Velocidade 2: 0.9499999999999957\n",
      "Velocidade 3: -48.10000000000001\n"
     ]
    }
   ],
   "source": [
    "#testes\n",
    "bolaV1 = velocidade_bola(1, 9.81, 50)\n",
    "print(f\"Velocidade 1: {bolaV1}\")\n",
    "bolaV2 = velocidade_bola(5, 9.81, 50)\n",
    "print(f\"Velocidade 2: {bolaV2}\")\n",
    "bolaV3 = velocidade_bola(10, 9.81, 50)\n",
    "print(f\"Velocidade 3: {bolaV3}\")"
   ]
  }
 ],
 "metadata": {
  "kernelspec": {
   "display_name": "Python 3",
   "language": "python",
   "name": "python3"
  },
  "language_info": {
   "codemirror_mode": {
    "name": "ipython",
    "version": 3
   },
   "file_extension": ".py",
   "mimetype": "text/x-python",
   "name": "python",
   "nbconvert_exporter": "python",
   "pygments_lexer": "ipython3",
   "version": "3.12.3"
  }
 },
 "nbformat": 4,
 "nbformat_minor": 2
}
